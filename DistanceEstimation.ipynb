{
  "nbformat": 4,
  "nbformat_minor": 0,
  "metadata": {
    "colab": {
      "provenance": [],
      "collapsed_sections": [],
      "authorship_tag": "ABX9TyNQdrYPexqnqpx5tAf53YUi",
      "include_colab_link": true
    },
    "kernelspec": {
      "name": "python3",
      "display_name": "Python 3"
    },
    "language_info": {
      "name": "python"
    }
  },
  "cells": [
    {
      "cell_type": "markdown",
      "metadata": {
        "id": "view-in-github",
        "colab_type": "text"
      },
      "source": [
        "<a href=\"https://colab.research.google.com/github/Samakande/Project/blob/main/DistanceEstimation.ipynb\" target=\"_parent\"><img src=\"https://colab.research.google.com/assets/colab-badge.svg\" alt=\"Open In Colab\"/></a>"
      ]
    },
    {
      "cell_type": "code",
      "execution_count": 106,
      "metadata": {
        "id": "0GDwCebLxlL1"
      },
      "outputs": [],
      "source": [
        "import tensorflow as tf\n",
        "from tensorflow import keras\n",
        "import numpy as np\n",
        "import matplotlib.pyplot as plt\n",
        "import pandas as pd\n"
      ]
    },
    {
      "cell_type": "code",
      "source": [
        "arr_train = np.genfromtxt(\"train.csv\", delimiter=\",\")\n",
        "arr_test = np.genfromtxt(\"test.csv\", delimiter=\",\")\n",
        "\n",
        "arr_train = np.delete(arr_train, 17, axis=1)\n",
        "arr_test = np.delete(arr_test, 17, axis=1)"
      ],
      "metadata": {
        "id": "WqcvOBQg5TwN"
      },
      "execution_count": 120,
      "outputs": []
    },
    {
      "cell_type": "code",
      "source": [
        "model = keras.Sequential()\n",
        "model.add(tf.keras.Input(shape=(17,)))\n",
        "model.add(keras.layers.Dense(10, activation = 'relu'))\n",
        "model.add(keras.layers.Dense(1, activation = 'relu'))\n",
        "\n",
        "model.compile(optimizer='adam', loss='mse', metrics=['mean_absolute_error'])"
      ],
      "metadata": {
        "id": "Su0BCgRRa9tO"
      },
      "execution_count": 148,
      "outputs": []
    },
    {
      "cell_type": "code",
      "source": [
        "y1 = np.full((100), 10)\n",
        "y2 = np.full((100), 20)\n",
        "y3 = np.full((100), 25)\n",
        "y4 = np.full((100), 30)\n",
        "y5 = np.full((100), 35)\n",
        "y6 = np.full((100), 40)\n",
        "y7 = np.full((100), 40)\n",
        "y8 = np.full((100), 45)\n",
        "y9 = np.full((100), 70)\n",
        "y10 = np.full((100), 60)\n",
        "\n",
        "y = np.concatenate((y1,y2,y3,y4,y5,y6,y7,y8,y9,y10))\n",
        "test_labels = np.full((100),50)"
      ],
      "metadata": {
        "id": "bIyjdLKRlu9n"
      },
      "execution_count": 125,
      "outputs": []
    },
    {
      "cell_type": "code",
      "source": [
        "model.fit(arr_train, y, epochs=100, shuffle=True)"
      ],
      "metadata": {
        "colab": {
          "base_uri": "https://localhost:8080/"
        },
        "id": "x69wNidenhGO",
        "outputId": "8a8b93bb-ae10-4210-dcd1-05c689519c14"
      },
      "execution_count": 156,
      "outputs": [
        {
          "output_type": "stream",
          "name": "stdout",
          "text": [
            "Epoch 1/100\n",
            "32/32 [==============================] - 0s 4ms/step - loss: 2.1285 - mean_absolute_error: 0.3668\n",
            "Epoch 2/100\n",
            "32/32 [==============================] - 0s 5ms/step - loss: 2.1552 - mean_absolute_error: 0.3644\n",
            "Epoch 3/100\n",
            "32/32 [==============================] - 0s 4ms/step - loss: 2.1001 - mean_absolute_error: 0.3442\n",
            "Epoch 4/100\n",
            "32/32 [==============================] - 0s 4ms/step - loss: 2.0951 - mean_absolute_error: 0.3792\n",
            "Epoch 5/100\n",
            "32/32 [==============================] - 0s 6ms/step - loss: 2.1145 - mean_absolute_error: 0.3900\n",
            "Epoch 6/100\n",
            "32/32 [==============================] - 0s 8ms/step - loss: 2.0425 - mean_absolute_error: 0.3181\n",
            "Epoch 7/100\n",
            "32/32 [==============================] - 0s 8ms/step - loss: 2.0414 - mean_absolute_error: 0.3685\n",
            "Epoch 8/100\n",
            "32/32 [==============================] - 0s 7ms/step - loss: 2.0257 - mean_absolute_error: 0.3257\n",
            "Epoch 9/100\n",
            "32/32 [==============================] - 0s 3ms/step - loss: 2.0454 - mean_absolute_error: 0.4348\n",
            "Epoch 10/100\n",
            "32/32 [==============================] - 0s 2ms/step - loss: 2.1415 - mean_absolute_error: 0.5121\n",
            "Epoch 11/100\n",
            "32/32 [==============================] - 0s 2ms/step - loss: 2.0208 - mean_absolute_error: 0.4031\n",
            "Epoch 12/100\n",
            "32/32 [==============================] - 0s 2ms/step - loss: 1.9316 - mean_absolute_error: 0.3438\n",
            "Epoch 13/100\n",
            "32/32 [==============================] - 0s 2ms/step - loss: 1.9312 - mean_absolute_error: 0.3253\n",
            "Epoch 14/100\n",
            "32/32 [==============================] - 0s 2ms/step - loss: 1.9227 - mean_absolute_error: 0.3460\n",
            "Epoch 15/100\n",
            "32/32 [==============================] - 0s 2ms/step - loss: 1.9049 - mean_absolute_error: 0.3162\n",
            "Epoch 16/100\n",
            "32/32 [==============================] - 0s 2ms/step - loss: 1.9314 - mean_absolute_error: 0.3999\n",
            "Epoch 17/100\n",
            "32/32 [==============================] - 0s 2ms/step - loss: 1.9572 - mean_absolute_error: 0.4438\n",
            "Epoch 18/100\n",
            "32/32 [==============================] - 0s 2ms/step - loss: 1.8846 - mean_absolute_error: 0.3267\n",
            "Epoch 19/100\n",
            "32/32 [==============================] - 0s 3ms/step - loss: 1.8867 - mean_absolute_error: 0.3827\n",
            "Epoch 20/100\n",
            "32/32 [==============================] - 0s 2ms/step - loss: 1.8776 - mean_absolute_error: 0.4279\n",
            "Epoch 21/100\n",
            "32/32 [==============================] - 0s 2ms/step - loss: 1.8242 - mean_absolute_error: 0.3223\n",
            "Epoch 22/100\n",
            "32/32 [==============================] - 0s 2ms/step - loss: 1.7994 - mean_absolute_error: 0.3513\n",
            "Epoch 23/100\n",
            "32/32 [==============================] - 0s 2ms/step - loss: 1.8692 - mean_absolute_error: 0.3794\n",
            "Epoch 24/100\n",
            "32/32 [==============================] - 0s 2ms/step - loss: 1.7989 - mean_absolute_error: 0.3550\n",
            "Epoch 25/100\n",
            "32/32 [==============================] - 0s 2ms/step - loss: 1.7794 - mean_absolute_error: 0.3504\n",
            "Epoch 26/100\n",
            "32/32 [==============================] - 0s 2ms/step - loss: 1.7961 - mean_absolute_error: 0.3526\n",
            "Epoch 27/100\n",
            "32/32 [==============================] - 0s 2ms/step - loss: 1.7782 - mean_absolute_error: 0.3668\n",
            "Epoch 28/100\n",
            "32/32 [==============================] - 0s 2ms/step - loss: 1.7781 - mean_absolute_error: 0.3751\n",
            "Epoch 29/100\n",
            "32/32 [==============================] - 0s 3ms/step - loss: 1.7630 - mean_absolute_error: 0.3864\n",
            "Epoch 30/100\n",
            "32/32 [==============================] - 0s 2ms/step - loss: 1.7247 - mean_absolute_error: 0.3675\n",
            "Epoch 31/100\n",
            "32/32 [==============================] - 0s 2ms/step - loss: 1.7518 - mean_absolute_error: 0.3712\n",
            "Epoch 32/100\n",
            "32/32 [==============================] - 0s 2ms/step - loss: 1.6681 - mean_absolute_error: 0.3346\n",
            "Epoch 33/100\n",
            "32/32 [==============================] - 0s 2ms/step - loss: 1.6720 - mean_absolute_error: 0.3371\n",
            "Epoch 34/100\n",
            "32/32 [==============================] - 0s 2ms/step - loss: 1.6748 - mean_absolute_error: 0.4015\n",
            "Epoch 35/100\n",
            "32/32 [==============================] - 0s 2ms/step - loss: 1.6354 - mean_absolute_error: 0.3046\n",
            "Epoch 36/100\n",
            "32/32 [==============================] - 0s 2ms/step - loss: 1.6141 - mean_absolute_error: 0.3265\n",
            "Epoch 37/100\n",
            "32/32 [==============================] - 0s 2ms/step - loss: 1.8163 - mean_absolute_error: 0.5213\n",
            "Epoch 38/100\n",
            "32/32 [==============================] - 0s 3ms/step - loss: 1.7121 - mean_absolute_error: 0.4345\n",
            "Epoch 39/100\n",
            "32/32 [==============================] - 0s 2ms/step - loss: 1.6199 - mean_absolute_error: 0.3368\n",
            "Epoch 40/100\n",
            "32/32 [==============================] - 0s 2ms/step - loss: 1.6046 - mean_absolute_error: 0.3682\n",
            "Epoch 41/100\n",
            "32/32 [==============================] - 0s 2ms/step - loss: 1.5842 - mean_absolute_error: 0.3584\n",
            "Epoch 42/100\n",
            "32/32 [==============================] - 0s 2ms/step - loss: 1.5671 - mean_absolute_error: 0.3567\n",
            "Epoch 43/100\n",
            "32/32 [==============================] - 0s 2ms/step - loss: 1.6127 - mean_absolute_error: 0.4296\n",
            "Epoch 44/100\n",
            "32/32 [==============================] - 0s 2ms/step - loss: 1.5721 - mean_absolute_error: 0.3751\n",
            "Epoch 45/100\n",
            "32/32 [==============================] - 0s 2ms/step - loss: 1.6225 - mean_absolute_error: 0.3958\n",
            "Epoch 46/100\n",
            "32/32 [==============================] - 0s 2ms/step - loss: 1.5019 - mean_absolute_error: 0.3230\n",
            "Epoch 47/100\n",
            "32/32 [==============================] - 0s 2ms/step - loss: 1.5656 - mean_absolute_error: 0.3954\n",
            "Epoch 48/100\n",
            "32/32 [==============================] - 0s 2ms/step - loss: 1.5285 - mean_absolute_error: 0.3791\n",
            "Epoch 49/100\n",
            "32/32 [==============================] - 0s 2ms/step - loss: 1.4909 - mean_absolute_error: 0.3436\n",
            "Epoch 50/100\n",
            "32/32 [==============================] - 0s 2ms/step - loss: 1.5368 - mean_absolute_error: 0.4157\n",
            "Epoch 51/100\n",
            "32/32 [==============================] - 0s 2ms/step - loss: 1.5318 - mean_absolute_error: 0.3991\n",
            "Epoch 52/100\n",
            "32/32 [==============================] - 0s 2ms/step - loss: 1.4620 - mean_absolute_error: 0.3785\n",
            "Epoch 53/100\n",
            "32/32 [==============================] - 0s 2ms/step - loss: 1.4380 - mean_absolute_error: 0.3311\n",
            "Epoch 54/100\n",
            "32/32 [==============================] - 0s 2ms/step - loss: 1.4547 - mean_absolute_error: 0.3455\n",
            "Epoch 55/100\n",
            "32/32 [==============================] - 0s 2ms/step - loss: 1.4514 - mean_absolute_error: 0.3724\n",
            "Epoch 56/100\n",
            "32/32 [==============================] - 0s 2ms/step - loss: 1.4806 - mean_absolute_error: 0.3968\n",
            "Epoch 57/100\n",
            "32/32 [==============================] - 0s 2ms/step - loss: 1.3975 - mean_absolute_error: 0.3235\n",
            "Epoch 58/100\n",
            "32/32 [==============================] - 0s 2ms/step - loss: 1.3915 - mean_absolute_error: 0.3391\n",
            "Epoch 59/100\n",
            "32/32 [==============================] - 0s 2ms/step - loss: 1.4180 - mean_absolute_error: 0.3817\n",
            "Epoch 60/100\n",
            "32/32 [==============================] - 0s 2ms/step - loss: 1.3983 - mean_absolute_error: 0.4044\n",
            "Epoch 61/100\n",
            "32/32 [==============================] - 0s 2ms/step - loss: 1.3574 - mean_absolute_error: 0.3435\n",
            "Epoch 62/100\n",
            "32/32 [==============================] - 0s 2ms/step - loss: 1.4009 - mean_absolute_error: 0.3738\n",
            "Epoch 63/100\n",
            "32/32 [==============================] - 0s 2ms/step - loss: 1.3395 - mean_absolute_error: 0.3506\n",
            "Epoch 64/100\n",
            "32/32 [==============================] - 0s 2ms/step - loss: 1.3353 - mean_absolute_error: 0.3139\n",
            "Epoch 65/100\n",
            "32/32 [==============================] - 0s 2ms/step - loss: 1.3363 - mean_absolute_error: 0.3743\n",
            "Epoch 66/100\n",
            "32/32 [==============================] - 0s 2ms/step - loss: 1.3218 - mean_absolute_error: 0.3661\n",
            "Epoch 67/100\n",
            "32/32 [==============================] - 0s 2ms/step - loss: 1.3667 - mean_absolute_error: 0.4241\n",
            "Epoch 68/100\n",
            "32/32 [==============================] - 0s 2ms/step - loss: 1.3115 - mean_absolute_error: 0.3381\n",
            "Epoch 69/100\n",
            "32/32 [==============================] - 0s 2ms/step - loss: 1.2602 - mean_absolute_error: 0.2999\n",
            "Epoch 70/100\n",
            "32/32 [==============================] - 0s 2ms/step - loss: 1.2650 - mean_absolute_error: 0.3239\n",
            "Epoch 71/100\n",
            "32/32 [==============================] - 0s 3ms/step - loss: 1.2678 - mean_absolute_error: 0.3379\n",
            "Epoch 72/100\n",
            "32/32 [==============================] - 0s 2ms/step - loss: 1.2687 - mean_absolute_error: 0.3814\n",
            "Epoch 73/100\n",
            "32/32 [==============================] - 0s 2ms/step - loss: 1.2711 - mean_absolute_error: 0.3754\n",
            "Epoch 74/100\n",
            "32/32 [==============================] - 0s 2ms/step - loss: 1.2232 - mean_absolute_error: 0.2943\n",
            "Epoch 75/100\n",
            "32/32 [==============================] - 0s 2ms/step - loss: 1.1984 - mean_absolute_error: 0.2937\n",
            "Epoch 76/100\n",
            "32/32 [==============================] - 0s 2ms/step - loss: 1.2280 - mean_absolute_error: 0.3107\n",
            "Epoch 77/100\n",
            "32/32 [==============================] - 0s 2ms/step - loss: 1.2167 - mean_absolute_error: 0.3314\n",
            "Epoch 78/100\n",
            "32/32 [==============================] - 0s 2ms/step - loss: 1.1980 - mean_absolute_error: 0.3318\n",
            "Epoch 79/100\n",
            "32/32 [==============================] - 0s 2ms/step - loss: 1.1839 - mean_absolute_error: 0.3620\n",
            "Epoch 80/100\n",
            "32/32 [==============================] - 0s 2ms/step - loss: 1.2091 - mean_absolute_error: 0.3584\n",
            "Epoch 81/100\n",
            "32/32 [==============================] - 0s 2ms/step - loss: 1.1797 - mean_absolute_error: 0.3308\n",
            "Epoch 82/100\n",
            "32/32 [==============================] - 0s 2ms/step - loss: 1.1452 - mean_absolute_error: 0.2999\n",
            "Epoch 83/100\n",
            "32/32 [==============================] - 0s 2ms/step - loss: 1.1700 - mean_absolute_error: 0.3449\n",
            "Epoch 84/100\n",
            "32/32 [==============================] - 0s 2ms/step - loss: 1.1176 - mean_absolute_error: 0.2970\n",
            "Epoch 85/100\n",
            "32/32 [==============================] - 0s 2ms/step - loss: 1.1158 - mean_absolute_error: 0.2936\n",
            "Epoch 86/100\n",
            "32/32 [==============================] - 0s 2ms/step - loss: 1.1409 - mean_absolute_error: 0.3145\n",
            "Epoch 87/100\n",
            "32/32 [==============================] - 0s 2ms/step - loss: 1.2367 - mean_absolute_error: 0.4368\n",
            "Epoch 88/100\n",
            "32/32 [==============================] - 0s 2ms/step - loss: 1.0907 - mean_absolute_error: 0.3275\n",
            "Epoch 89/100\n",
            "32/32 [==============================] - 0s 2ms/step - loss: 1.0837 - mean_absolute_error: 0.3105\n",
            "Epoch 90/100\n",
            "32/32 [==============================] - 0s 2ms/step - loss: 1.0791 - mean_absolute_error: 0.3167\n",
            "Epoch 91/100\n",
            "32/32 [==============================] - 0s 2ms/step - loss: 1.4764 - mean_absolute_error: 0.6120\n",
            "Epoch 92/100\n",
            "32/32 [==============================] - 0s 3ms/step - loss: 1.0652 - mean_absolute_error: 0.3628\n",
            "Epoch 93/100\n",
            "32/32 [==============================] - 0s 2ms/step - loss: 1.0299 - mean_absolute_error: 0.3197\n",
            "Epoch 94/100\n",
            "32/32 [==============================] - 0s 2ms/step - loss: 1.0587 - mean_absolute_error: 0.3538\n",
            "Epoch 95/100\n",
            "32/32 [==============================] - 0s 2ms/step - loss: 1.0412 - mean_absolute_error: 0.3393\n",
            "Epoch 96/100\n",
            "32/32 [==============================] - 0s 2ms/step - loss: 0.9974 - mean_absolute_error: 0.2903\n",
            "Epoch 97/100\n",
            "32/32 [==============================] - 0s 2ms/step - loss: 1.0445 - mean_absolute_error: 0.3440\n",
            "Epoch 98/100\n",
            "32/32 [==============================] - 0s 2ms/step - loss: 1.0009 - mean_absolute_error: 0.3066\n",
            "Epoch 99/100\n",
            "32/32 [==============================] - 0s 2ms/step - loss: 0.9838 - mean_absolute_error: 0.2698\n",
            "Epoch 100/100\n",
            "32/32 [==============================] - 0s 2ms/step - loss: 1.0094 - mean_absolute_error: 0.3241\n"
          ]
        },
        {
          "output_type": "execute_result",
          "data": {
            "text/plain": [
              "<keras.callbacks.History at 0x7fd5fe8f1250>"
            ]
          },
          "metadata": {},
          "execution_count": 156
        }
      ]
    },
    {
      "cell_type": "code",
      "source": [
        "loss, acc = model.evaluate(arr_test, test_labels, verbose=2)"
      ],
      "metadata": {
        "colab": {
          "base_uri": "https://localhost:8080/"
        },
        "id": "fpHkjjHjo7g-",
        "outputId": "96a6cbb2-f098-4d98-dd15-12327210b2f9"
      },
      "execution_count": 131,
      "outputs": [
        {
          "output_type": "stream",
          "name": "stdout",
          "text": [
            "4/4 - 0s - loss: 0.0306 - mean_absolute_error: 0.1036 - 22ms/epoch - 6ms/step\n"
          ]
        }
      ]
    },
    {
      "cell_type": "code",
      "source": [
        "model.predict(arr_test)"
      ],
      "metadata": {
        "colab": {
          "base_uri": "https://localhost:8080/"
        },
        "id": "zwjENrtjzUoe",
        "outputId": "db1c2c6b-aafc-49a8-a026-84ab3cb0b4c4"
      },
      "execution_count": 157,
      "outputs": [
        {
          "output_type": "stream",
          "name": "stdout",
          "text": [
            "4/4 [==============================] - 0s 3ms/step\n"
          ]
        },
        {
          "output_type": "execute_result",
          "data": {
            "text/plain": [
              "array([[49.36754 ],\n",
              "       [50.32533 ],\n",
              "       [50.422836],\n",
              "       [50.270897],\n",
              "       [50.22288 ],\n",
              "       [50.193443],\n",
              "       [50.284687],\n",
              "       [50.200203],\n",
              "       [50.34826 ],\n",
              "       [50.263985],\n",
              "       [50.24977 ],\n",
              "       [50.261402],\n",
              "       [50.24944 ],\n",
              "       [50.29579 ],\n",
              "       [50.84633 ],\n",
              "       [50.44717 ],\n",
              "       [50.27152 ],\n",
              "       [50.228104],\n",
              "       [50.17595 ],\n",
              "       [49.756866],\n",
              "       [50.4108  ],\n",
              "       [50.284096],\n",
              "       [50.21191 ],\n",
              "       [49.708523],\n",
              "       [50.31847 ],\n",
              "       [50.279842],\n",
              "       [50.41027 ],\n",
              "       [50.270504],\n",
              "       [50.498497],\n",
              "       [50.301796],\n",
              "       [50.34464 ],\n",
              "       [50.292   ],\n",
              "       [50.06416 ],\n",
              "       [50.219536],\n",
              "       [50.351803],\n",
              "       [50.304733],\n",
              "       [50.088627],\n",
              "       [50.268063],\n",
              "       [50.248055],\n",
              "       [50.218403],\n",
              "       [50.19407 ],\n",
              "       [50.30738 ],\n",
              "       [50.39394 ],\n",
              "       [49.81547 ],\n",
              "       [50.315166],\n",
              "       [50.927647],\n",
              "       [50.270172],\n",
              "       [50.415478],\n",
              "       [50.182484],\n",
              "       [49.683613],\n",
              "       [50.218235],\n",
              "       [50.29024 ],\n",
              "       [50.2657  ],\n",
              "       [50.307713],\n",
              "       [50.242092],\n",
              "       [50.19796 ],\n",
              "       [50.27033 ],\n",
              "       [50.28806 ],\n",
              "       [50.316475],\n",
              "       [50.42543 ],\n",
              "       [50.233192],\n",
              "       [50.248646],\n",
              "       [50.25742 ],\n",
              "       [50.21683 ],\n",
              "       [50.32071 ],\n",
              "       [50.255436],\n",
              "       [50.255554],\n",
              "       [50.605476],\n",
              "       [50.411488],\n",
              "       [50.297832],\n",
              "       [50.257023],\n",
              "       [50.344032],\n",
              "       [50.369526],\n",
              "       [50.291718],\n",
              "       [50.29764 ],\n",
              "       [50.22135 ],\n",
              "       [50.333252],\n",
              "       [50.310173],\n",
              "       [49.98207 ],\n",
              "       [50.363857],\n",
              "       [50.332283],\n",
              "       [50.396564],\n",
              "       [50.307106],\n",
              "       [50.252758],\n",
              "       [50.223133],\n",
              "       [50.187984],\n",
              "       [50.298485],\n",
              "       [49.64763 ],\n",
              "       [50.236008],\n",
              "       [50.262123],\n",
              "       [50.65154 ],\n",
              "       [50.31134 ],\n",
              "       [50.129875],\n",
              "       [50.305798],\n",
              "       [50.267113],\n",
              "       [50.243946],\n",
              "       [50.599297],\n",
              "       [50.02107 ],\n",
              "       [50.166122],\n",
              "       [50.320568]], dtype=float32)"
            ]
          },
          "metadata": {},
          "execution_count": 157
        }
      ]
    },
    {
      "cell_type": "code",
      "source": [
        "model.save_weights('./checkpoints/my_checkpoint')"
      ],
      "metadata": {
        "id": "x8Pfdy5i11ZC"
      },
      "execution_count": 133,
      "outputs": []
    },
    {
      "cell_type": "code",
      "source": [
        "fb_model = tf.lite.TFLiteConverter.from_keras_model(model).convert()\n",
        "\n",
        "tf.lite.experimental.Analyzer.analyze(model_content=fb_model)"
      ],
      "metadata": {
        "id": "3DQwPyjn4DyR"
      },
      "execution_count": null,
      "outputs": []
    },
    {
      "cell_type": "code",
      "source": [
        "converter = tf.lite.TFLiteConverter.from_keras_model(model)\n",
        "tflite_model = converter.convert()\n",
        "\n",
        "# Save the model.\n",
        "with open('model.tflite', 'wb') as f:\n",
        "  f.write(tflite_model)"
      ],
      "metadata": {
        "id": "-sLcgbDI3eTr"
      },
      "execution_count": 141,
      "outputs": []
    },
    {
      "cell_type": "code",
      "source": [
        "print(arr_test[0])"
      ],
      "metadata": {
        "colab": {
          "base_uri": "https://localhost:8080/"
        },
        "id": "svFYP-hh68NB",
        "outputId": "f86bd4ed-1729-40b3-d8c7-bb8302fa7689"
      },
      "execution_count": 143,
      "outputs": [
        {
          "output_type": "stream",
          "name": "stdout",
          "text": [
            "[53.13       49.37       49.34       49.41       49.46       49.51\n",
            " 49.39       49.32       49.65       49.54       49.51       49.5\n",
            " 49.37       49.34       49.48       18.28957031 57.51710703]\n"
          ]
        }
      ]
    },
    {
      "cell_type": "code",
      "source": [
        "model.summary()"
      ],
      "metadata": {
        "colab": {
          "base_uri": "https://localhost:8080/"
        },
        "id": "-0wlN6EEQVM_",
        "outputId": "80dcde26-dc9f-468b-c6ae-a22ba09b1db1"
      },
      "execution_count": 150,
      "outputs": [
        {
          "output_type": "stream",
          "name": "stdout",
          "text": [
            "Model: \"sequential_7\"\n",
            "_________________________________________________________________\n",
            " Layer (type)                Output Shape              Param #   \n",
            "=================================================================\n",
            " dense_15 (Dense)            (None, 10)                180       \n",
            "                                                                 \n",
            " dense_16 (Dense)            (None, 1)                 11        \n",
            "                                                                 \n",
            "=================================================================\n",
            "Total params: 191\n",
            "Trainable params: 191\n",
            "Non-trainable params: 0\n",
            "_________________________________________________________________\n"
          ]
        }
      ]
    },
    {
      "cell_type": "code",
      "source": [
        "tf.keras.utils.plot_model(model, show_shapes = True, show_layer_names= True,\n",
        "                          rankdir = 'TB', expand_nested = False, dpi = 96)"
      ],
      "metadata": {
        "colab": {
          "base_uri": "https://localhost:8080/",
          "height": 312
        },
        "id": "K8VRsc1ur7Ai",
        "outputId": "053c70af-3bbe-4288-a24d-42cb444806d7"
      },
      "execution_count": 154,
      "outputs": [
        {
          "output_type": "execute_result",
          "data": {
            "image/png": "[encoded data removed]",
            "text/plain": [
              "<IPython.core.display.Image object>"
            ]
          },
          "metadata": {},
          "execution_count": 154
        }
      ]
    },
    {
      "cell_type": "code",
      "source": [],
      "metadata": {
        "id": "Ow4ghiPz18l6"
      },
      "execution_count": null,
      "outputs": []
    }
  ]
}