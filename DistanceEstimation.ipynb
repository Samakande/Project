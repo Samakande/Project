{
  "nbformat": 4,
  "nbformat_minor": 0,
  "metadata": {
    "colab": {
      "provenance": [],
      "collapsed_sections": [],
      "authorship_tag": "ABX9TyOCDHxZNp+mSvahd1TEVtep",
      "include_colab_link": true
    },
    "kernelspec": {
      "name": "python3",
      "display_name": "Python 3"
    },
    "language_info": {
      "name": "python"
    }
  },
  "cells": [
    {
      "cell_type": "markdown",
      "metadata": {
        "id": "view-in-github",
        "colab_type": "text"
      },
      "source": [
        "<a href=\"https://colab.research.google.com/github/Samakande/Project/blob/main/DistanceEstimation.ipynb\" target=\"_parent\"><img src=\"https://colab.research.google.com/assets/colab-badge.svg\" alt=\"Open In Colab\"/></a>"
      ]
    },
    {
      "cell_type": "code",
      "execution_count": 106,
      "metadata": {
        "id": "0GDwCebLxlL1"
      },
      "outputs": [],
      "source": [
        "import tensorflow as tf\n",
        "from tensorflow import keras\n",
        "import numpy as np\n",
        "import matplotlib.pyplot as plt\n",
        "import pandas as pd\n"
      ]
    },
    {
      "cell_type": "code",
      "source": [
        "arr_train = np.genfromtxt(\"train.csv\", delimiter=\",\")\n",
        "arr_test = np.genfromtxt(\"test.csv\", delimiter=\",\")\n",
        "\n",
        "arr_train = np.delete(arr_train, 17, axis=1)\n",
        "arr_test = np.delete(arr_test, 17, axis=1)"
      ],
      "metadata": {
        "id": "WqcvOBQg5TwN"
      },
      "execution_count": 120,
      "outputs": []
    },
    {
      "cell_type": "code",
      "source": [
        "model = keras.Sequential()\n",
        "model.add(tf.keras.Input(shape=(17,)))\n",
        "model.add(keras.layers.Dense(10, activation = 'relu'))\n",
        "model.add(keras.layers.Dense(1, activation = 'relu'))\n",
        "\n",
        "model.compile(optimizer='adam', loss='mse', metrics=['mean_absolute_error'])"
      ],
      "metadata": {
        "id": "Su0BCgRRa9tO"
      },
      "execution_count": 109,
      "outputs": []
    },
    {
      "cell_type": "code",
      "source": [
        "y1 = np.full((100), 10)\n",
        "y2 = np.full((100), 20)\n",
        "y3 = np.full((100), 25)\n",
        "y4 = np.full((100), 30)\n",
        "y5 = np.full((100), 35)\n",
        "y6 = np.full((100), 40)\n",
        "y7 = np.full((100), 40)\n",
        "y8 = np.full((100), 45)\n",
        "y9 = np.full((100), 70)\n",
        "y10 = np.full((100), 60)\n",
        "\n",
        "y = np.concatenate((y1,y2,y3,y4,y5,y6,y7,y8,y9,y10))\n",
        "test_labels = np.full((100),50)"
      ],
      "metadata": {
        "id": "bIyjdLKRlu9n"
      },
      "execution_count": 125,
      "outputs": []
    },
    {
      "cell_type": "code",
      "source": [
        "model.fit(arr_train, y, epochs=30)"
      ],
      "metadata": {
        "colab": {
          "base_uri": "https://localhost:8080/"
        },
        "id": "x69wNidenhGO",
        "outputId": "8a6dc038-cc44-4245-96fc-794fbf45bff0"
      },
      "execution_count": 130,
      "outputs": [
        {
          "output_type": "stream",
          "name": "stdout",
          "text": [
            "Epoch 1/30\n",
            "32/32 [==============================] - 0s 2ms/step - loss: 0.4336 - mean_absolute_error: 0.2457\n",
            "Epoch 2/30\n",
            "32/32 [==============================] - 0s 2ms/step - loss: 0.4103 - mean_absolute_error: 0.1995\n",
            "Epoch 3/30\n",
            "32/32 [==============================] - 0s 2ms/step - loss: 0.4189 - mean_absolute_error: 0.2280\n",
            "Epoch 4/30\n",
            "32/32 [==============================] - 0s 2ms/step - loss: 0.4026 - mean_absolute_error: 0.2127\n",
            "Epoch 5/30\n",
            "32/32 [==============================] - 0s 3ms/step - loss: 0.3992 - mean_absolute_error: 0.1996\n",
            "Epoch 6/30\n",
            "32/32 [==============================] - 0s 2ms/step - loss: 0.3853 - mean_absolute_error: 0.1897\n",
            "Epoch 7/30\n",
            "32/32 [==============================] - 0s 2ms/step - loss: 0.3865 - mean_absolute_error: 0.1981\n",
            "Epoch 8/30\n",
            "32/32 [==============================] - 0s 2ms/step - loss: 0.4076 - mean_absolute_error: 0.2442\n",
            "Epoch 9/30\n",
            "32/32 [==============================] - 0s 2ms/step - loss: 0.3958 - mean_absolute_error: 0.2144\n",
            "Epoch 10/30\n",
            "32/32 [==============================] - 0s 2ms/step - loss: 0.4020 - mean_absolute_error: 0.2459\n",
            "Epoch 11/30\n",
            "32/32 [==============================] - 0s 2ms/step - loss: 0.3720 - mean_absolute_error: 0.1915\n",
            "Epoch 12/30\n",
            "32/32 [==============================] - 0s 2ms/step - loss: 0.4040 - mean_absolute_error: 0.2605\n",
            "Epoch 13/30\n",
            "32/32 [==============================] - 0s 2ms/step - loss: 0.3790 - mean_absolute_error: 0.2163\n",
            "Epoch 14/30\n",
            "32/32 [==============================] - 0s 2ms/step - loss: 0.3665 - mean_absolute_error: 0.2002\n",
            "Epoch 15/30\n",
            "32/32 [==============================] - 0s 2ms/step - loss: 0.3607 - mean_absolute_error: 0.2027\n",
            "Epoch 16/30\n",
            "32/32 [==============================] - 0s 2ms/step - loss: 0.3627 - mean_absolute_error: 0.2051\n",
            "Epoch 17/30\n",
            "32/32 [==============================] - 0s 2ms/step - loss: 0.3526 - mean_absolute_error: 0.2016\n",
            "Epoch 18/30\n",
            "32/32 [==============================] - 0s 2ms/step - loss: 0.3521 - mean_absolute_error: 0.2012\n",
            "Epoch 19/30\n",
            "32/32 [==============================] - 0s 2ms/step - loss: 0.3646 - mean_absolute_error: 0.2272\n",
            "Epoch 20/30\n",
            "32/32 [==============================] - 0s 2ms/step - loss: 0.3514 - mean_absolute_error: 0.2121\n",
            "Epoch 21/30\n",
            "32/32 [==============================] - 0s 2ms/step - loss: 0.3366 - mean_absolute_error: 0.1865\n",
            "Epoch 22/30\n",
            "32/32 [==============================] - 0s 2ms/step - loss: 0.3361 - mean_absolute_error: 0.1969\n",
            "Epoch 23/30\n",
            "32/32 [==============================] - 0s 2ms/step - loss: 0.3740 - mean_absolute_error: 0.2774\n",
            "Epoch 24/30\n",
            "32/32 [==============================] - 0s 2ms/step - loss: 0.3239 - mean_absolute_error: 0.1970\n",
            "Epoch 25/30\n",
            "32/32 [==============================] - 0s 2ms/step - loss: 0.3232 - mean_absolute_error: 0.1904\n",
            "Epoch 26/30\n",
            "32/32 [==============================] - 0s 2ms/step - loss: 0.3403 - mean_absolute_error: 0.2176\n",
            "Epoch 27/30\n",
            "32/32 [==============================] - 0s 2ms/step - loss: 0.3429 - mean_absolute_error: 0.2273\n",
            "Epoch 28/30\n",
            "32/32 [==============================] - 0s 2ms/step - loss: 0.3788 - mean_absolute_error: 0.2951\n",
            "Epoch 29/30\n",
            "32/32 [==============================] - 0s 2ms/step - loss: 0.3131 - mean_absolute_error: 0.2037\n",
            "Epoch 30/30\n",
            "32/32 [==============================] - 0s 2ms/step - loss: 0.3133 - mean_absolute_error: 0.1984\n"
          ]
        },
        {
          "output_type": "execute_result",
          "data": {
            "text/plain": [
              "<keras.callbacks.History at 0x7fd5f80c2050>"
            ]
          },
          "metadata": {},
          "execution_count": 130
        }
      ]
    },
    {
      "cell_type": "code",
      "source": [
        "loss, acc = model.evaluate(arr_test, test_labels, verbose=2)"
      ],
      "metadata": {
        "colab": {
          "base_uri": "https://localhost:8080/"
        },
        "id": "fpHkjjHjo7g-",
        "outputId": "96a6cbb2-f098-4d98-dd15-12327210b2f9"
      },
      "execution_count": 131,
      "outputs": [
        {
          "output_type": "stream",
          "name": "stdout",
          "text": [
            "4/4 - 0s - loss: 0.0306 - mean_absolute_error: 0.1036 - 22ms/epoch - 6ms/step\n"
          ]
        }
      ]
    },
    {
      "cell_type": "code",
      "source": [
        "model.predict(arr_test)"
      ],
      "metadata": {
        "id": "zwjENrtjzUoe"
      },
      "execution_count": null,
      "outputs": []
    },
    {
      "cell_type": "code",
      "source": [
        "model.save_weights('./checkpoints/my_checkpoint')"
      ],
      "metadata": {
        "id": "x8Pfdy5i11ZC"
      },
      "execution_count": 133,
      "outputs": []
    },
    {
      "cell_type": "code",
      "source": [
        "fb_model = tf.lite.TFLiteConverter.from_keras_model(model).convert()\n",
        "\n",
        "tf.lite.experimental.Analyzer.analyze(model_content=fb_model)"
      ],
      "metadata": {
        "id": "3DQwPyjn4DyR"
      },
      "execution_count": null,
      "outputs": []
    },
    {
      "cell_type": "code",
      "source": [
        "converter = tf.lite.TFLiteConverter.from_keras_model(model)\n",
        "tflite_model = converter.convert()\n",
        "\n",
        "# Save the model.\n",
        "with open('model.tflite', 'wb') as f:\n",
        "  f.write(tflite_model)"
      ],
      "metadata": {
        "id": "-sLcgbDI3eTr"
      },
      "execution_count": 141,
      "outputs": []
    },
    {
      "cell_type": "code",
      "source": [
        "print(arr_test[0])"
      ],
      "metadata": {
        "colab": {
          "base_uri": "https://localhost:8080/"
        },
        "id": "svFYP-hh68NB",
        "outputId": "f86bd4ed-1729-40b3-d8c7-bb8302fa7689"
      },
      "execution_count": 143,
      "outputs": [
        {
          "output_type": "stream",
          "name": "stdout",
          "text": [
            "[53.13       49.37       49.34       49.41       49.46       49.51\n",
            " 49.39       49.32       49.65       49.54       49.51       49.5\n",
            " 49.37       49.34       49.48       18.28957031 57.51710703]\n"
          ]
        }
      ]
    },
    {
      "cell_type": "code",
      "source": [],
      "metadata": {
        "id": "-0wlN6EEQVM_"
      },
      "execution_count": null,
      "outputs": []
    }
  ]
}